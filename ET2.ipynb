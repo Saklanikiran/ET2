{
 "cells": [
  {
   "cell_type": "markdown",
   "id": "35d338a1-a26d-460b-ae81-e8a36f117752",
   "metadata": {},
   "source": [
    "# Ans : 1"
   ]
  },
  {
   "cell_type": "code",
   "execution_count": null,
   "id": "c183b3fe-be2c-41d2-aec0-7b1df09e3a46",
   "metadata": {},
   "outputs": [],
   "source": []
  },
  {
   "cell_type": "markdown",
   "id": "f5b848c5-b0c4-4c3e-a0cd-f67d51327569",
   "metadata": {},
   "source": [
    "# Ans : 2"
   ]
  },
  {
   "cell_type": "code",
   "execution_count": null,
   "id": "053a6e32-10ce-4a86-a121-908ece8764af",
   "metadata": {},
   "outputs": [],
   "source": []
  },
  {
   "cell_type": "markdown",
   "id": "157f1428-eff6-4f94-8d8a-4fdc27fad925",
   "metadata": {},
   "source": [
    "# Ans : 3"
   ]
  },
  {
   "cell_type": "code",
   "execution_count": null,
   "id": "d3e6c50d-7fc0-4aff-92d4-43739d32f674",
   "metadata": {},
   "outputs": [],
   "source": []
  },
  {
   "cell_type": "markdown",
   "id": "6a57d4ae-7fd4-4cb1-a5a3-9601ade3dd7d",
   "metadata": {},
   "source": [
    "# Ans : 4"
   ]
  },
  {
   "cell_type": "code",
   "execution_count": null,
   "id": "adf7916a-d3fe-4996-b876-bfd830e4a406",
   "metadata": {},
   "outputs": [],
   "source": [
    "'''\n"
   ]
  },
  {
   "cell_type": "markdown",
   "id": "3d5f3ab1-3010-4b32-b15f-4fff26841c96",
   "metadata": {},
   "source": [
    "# Ans : 5"
   ]
  },
  {
   "cell_type": "code",
   "execution_count": null,
   "id": "12c9ab48-d95b-4323-9d12-f0be8c92ebe7",
   "metadata": {},
   "outputs": [],
   "source": [
    "'''\n",
    "Ensemble Size Role: Increasing the number of models in the ensemble generally improves performance up to a certain point, after which the marginal benefit decreases.\n",
    "Optimal Number: The optimal number of models depends on the specific dataset and problem, but typically ranges from 10 to 100. Empirical testing is often required to determine the best size.\n",
    "\n",
    "'''"
   ]
  },
  {
   "cell_type": "markdown",
   "id": "59428760-c9c1-4298-9dc1-9e1274b13a94",
   "metadata": {},
   "source": [
    "# Ans : 6"
   ]
  },
  {
   "cell_type": "code",
   "execution_count": null,
   "id": "78ea804d-a127-472c-a0f4-901c9401bc8f",
   "metadata": {},
   "outputs": [],
   "source": [
    "'''\n",
    "Real-World Application: One common example is in finance for credit scoring. Bagging can combine multiple decision trees to create a\n",
    "robust model that accurately predicts credit risk and reduces the chances of overfitting, leading to more reliable credit scoring.\n",
    "\n",
    "'''"
   ]
  }
 ],
 "metadata": {
  "kernelspec": {
   "display_name": "Python 3 (ipykernel)",
   "language": "python",
   "name": "python3"
  },
  "language_info": {
   "codemirror_mode": {
    "name": "ipython",
    "version": 3
   },
   "file_extension": ".py",
   "mimetype": "text/x-python",
   "name": "python",
   "nbconvert_exporter": "python",
   "pygments_lexer": "ipython3",
   "version": "3.10.8"
  }
 },
 "nbformat": 4,
 "nbformat_minor": 5
}
